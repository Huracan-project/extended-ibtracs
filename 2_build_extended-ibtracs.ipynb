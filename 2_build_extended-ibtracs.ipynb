{
 "cells": [
  {
   "cell_type": "code",
   "execution_count": 1,
   "id": "8e9179b0-6c3d-4572-b8b6-29aa25e05410",
   "metadata": {},
   "outputs": [],
   "source": [
    "from eib import *\n",
    "\n",
    "MIN_OVERLAP = 3\n",
    "MAX_DIST = 400"
   ]
  },
  {
   "cell_type": "code",
   "execution_count": null,
   "id": "174955b7-5888-4205-aba4-d1fbae575429",
   "metadata": {},
   "outputs": [
    {
     "name": "stdout",
     "output_type": "stream",
     "text": [
      "------- NA -------\n",
      "... Loading ...\n"
     ]
    },
    {
     "name": "stderr",
     "output_type": "stream",
     "text": [
      "/home/users/sbourdin/.conda/envs/huracanpy/lib/python3.13/site-packages/huracanpy/_data/_csv.py:65: DtypeWarning: Columns (44,53) have mixed types. Specify dtype option on import or set low_memory=False.\n",
      "  tracks = load_function(filename, **kwargs)\n"
     ]
    },
    {
     "name": "stdout",
     "output_type": "stream",
     "text": [
      "... Matching ...\n"
     ]
    },
    {
     "name": "stderr",
     "output_type": "stream",
     "text": [
      "100%|██████████| 8/8 [00:29<00:00,  3.66s/it]\n",
      "100%|██████████| 2316/2316 [00:58<00:00, 39.77it/s]\n"
     ]
    },
    {
     "name": "stdout",
     "output_type": "stream",
     "text": [
      "... IBTrACS Attributes ...\n",
      "... Computing Translation speed and azimuth ...\n"
     ]
    },
    {
     "name": "stderr",
     "output_type": "stream",
     "text": [
      "100%|██████████| 9/9 [00:03<00:00,  2.29it/s]\n"
     ]
    },
    {
     "name": "stdout",
     "output_type": "stream",
     "text": [
      "... Adding CPS parameters ...\n"
     ]
    },
    {
     "name": "stderr",
     "output_type": "stream",
     "text": [
      "100%|██████████| 2/2 [00:01<00:00,  1.97it/s]\n"
     ]
    },
    {
     "name": "stdout",
     "output_type": "stream",
     "text": [
      "... Adding WCSI flags ...\n"
     ]
    },
    {
     "name": "stderr",
     "output_type": "stream",
     "text": [
      "100%|██████████| 2/2 [00:00<00:00,  5.50it/s]\n"
     ]
    },
    {
     "name": "stdout",
     "output_type": "stream",
     "text": [
      "... Adding is_tc & is_etc flags ...\n",
      "... Adding ET flags ...\n",
      "... Saving ...\n",
      "Done!\n",
      "------- EP -------\n",
      "... Loading ...\n"
     ]
    },
    {
     "name": "stderr",
     "output_type": "stream",
     "text": [
      "/home/users/sbourdin/.conda/envs/huracanpy/lib/python3.13/site-packages/huracanpy/_data/_csv.py:65: DtypeWarning: Columns (12,21,61,66,77,91) have mixed types. Specify dtype option on import or set low_memory=False.\n",
      "  tracks = load_function(filename, **kwargs)\n"
     ]
    },
    {
     "name": "stdout",
     "output_type": "stream",
     "text": [
      "... Matching ...\n"
     ]
    },
    {
     "name": "stderr",
     "output_type": "stream",
     "text": [
      " 38%|███▊      | 3/8 [00:18<00:34,  6.87s/it]/home/users/sbourdin/.conda/envs/huracanpy/lib/python3.13/site-packages/haversine/haversine.py:131: RuntimeWarning: invalid value encountered in arcsin\n",
      "  return 2 * asin(sqrt(d))\n",
      "100%|██████████| 8/8 [00:39<00:00,  4.95s/it]\n",
      "100%|██████████| 1699/1699 [00:48<00:00, 35.10it/s]\n"
     ]
    },
    {
     "name": "stdout",
     "output_type": "stream",
     "text": [
      "... IBTrACS Attributes ...\n",
      "... Computing Translation speed and azimuth ...\n"
     ]
    },
    {
     "name": "stderr",
     "output_type": "stream",
     "text": [
      "100%|██████████| 9/9 [00:05<00:00,  1.55it/s]\n"
     ]
    },
    {
     "name": "stdout",
     "output_type": "stream",
     "text": [
      "... Adding CPS parameters ...\n"
     ]
    },
    {
     "name": "stderr",
     "output_type": "stream",
     "text": [
      "100%|██████████| 2/2 [00:01<00:00,  1.81it/s]\n"
     ]
    },
    {
     "name": "stdout",
     "output_type": "stream",
     "text": [
      "... Adding WCSI flags ...\n"
     ]
    },
    {
     "name": "stderr",
     "output_type": "stream",
     "text": [
      "100%|██████████| 2/2 [00:00<00:00,  4.36it/s]\n"
     ]
    },
    {
     "name": "stdout",
     "output_type": "stream",
     "text": [
      "... Adding is_tc & is_etc flags ...\n",
      "... Adding ET flags ...\n",
      "... Saving ...\n",
      "Done!\n",
      "------- NI -------\n",
      "... Loading ...\n"
     ]
    },
    {
     "name": "stderr",
     "output_type": "stream",
     "text": [
      "/home/users/sbourdin/.conda/envs/huracanpy/lib/python3.13/site-packages/huracanpy/_data/_csv.py:65: DtypeWarning: Columns (12,17,18,21,22,61,66,77,85) have mixed types. Specify dtype option on import or set low_memory=False.\n",
      "  tracks = load_function(filename, **kwargs)\n"
     ]
    },
    {
     "name": "stdout",
     "output_type": "stream",
     "text": [
      "... Matching ...\n"
     ]
    },
    {
     "name": "stderr",
     "output_type": "stream",
     "text": [
      "100%|██████████| 8/8 [00:22<00:00,  2.86s/it]\n",
      "100%|██████████| 1842/1842 [00:43<00:00, 42.59it/s]\n"
     ]
    },
    {
     "name": "stdout",
     "output_type": "stream",
     "text": [
      "... IBTrACS Attributes ...\n",
      "... Computing Translation speed and azimuth ...\n"
     ]
    },
    {
     "name": "stderr",
     "output_type": "stream",
     "text": [
      "100%|██████████| 9/9 [00:03<00:00,  2.90it/s]\n"
     ]
    },
    {
     "name": "stdout",
     "output_type": "stream",
     "text": [
      "... Adding CPS parameters ...\n"
     ]
    },
    {
     "name": "stderr",
     "output_type": "stream",
     "text": [
      "100%|██████████| 2/2 [00:00<00:00,  2.25it/s]\n"
     ]
    },
    {
     "name": "stdout",
     "output_type": "stream",
     "text": [
      "... Adding WCSI flags ...\n"
     ]
    },
    {
     "name": "stderr",
     "output_type": "stream",
     "text": [
      "100%|██████████| 2/2 [00:00<00:00,  6.30it/s]\n"
     ]
    },
    {
     "name": "stdout",
     "output_type": "stream",
     "text": [
      "... Adding is_tc & is_etc flags ...\n",
      "... Adding ET flags ...\n",
      "... Saving ...\n",
      "Done!\n",
      "------- SA -------\n",
      "... Loading ...\n",
      "... Matching ...\n"
     ]
    },
    {
     "name": "stderr",
     "output_type": "stream",
     "text": [
      "100%|██████████| 8/8 [00:17<00:00,  2.16s/it]\n",
      "100%|██████████| 3/3 [00:00<00:00, 45.67it/s]\n"
     ]
    },
    {
     "name": "stdout",
     "output_type": "stream",
     "text": [
      "... IBTrACS Attributes ...\n",
      "... Computing Translation speed and azimuth ...\n"
     ]
    },
    {
     "name": "stderr",
     "output_type": "stream",
     "text": [
      "100%|██████████| 9/9 [00:00<00:00, 105.81it/s]\n"
     ]
    },
    {
     "name": "stdout",
     "output_type": "stream",
     "text": [
      "... Adding CPS parameters ...\n"
     ]
    },
    {
     "name": "stderr",
     "output_type": "stream",
     "text": [
      "100%|██████████| 2/2 [00:00<00:00,  2.84it/s]\n"
     ]
    },
    {
     "name": "stdout",
     "output_type": "stream",
     "text": [
      "... Adding WCSI flags ...\n"
     ]
    },
    {
     "name": "stderr",
     "output_type": "stream",
     "text": [
      "100%|██████████| 2/2 [00:00<00:00, 16.83it/s]\n"
     ]
    },
    {
     "name": "stdout",
     "output_type": "stream",
     "text": [
      "... Adding is_tc & is_etc flags ...\n",
      "... Adding ET flags ...\n",
      "... Saving ...\n",
      "Done!\n",
      "------- SI -------\n",
      "... Loading ...\n"
     ]
    },
    {
     "name": "stderr",
     "output_type": "stream",
     "text": [
      "/home/users/sbourdin/.conda/envs/huracanpy/lib/python3.13/site-packages/huracanpy/_data/_csv.py:65: DtypeWarning: Columns (17,18,21,93,102) have mixed types. Specify dtype option on import or set low_memory=False.\n",
      "  tracks = load_function(filename, **kwargs)\n"
     ]
    },
    {
     "name": "stdout",
     "output_type": "stream",
     "text": [
      "... Matching ...\n"
     ]
    },
    {
     "name": "stderr",
     "output_type": "stream",
     "text": [
      "  0%|          | 0/8 [00:00<?, ?it/s]/home/users/sbourdin/.conda/envs/huracanpy/lib/python3.13/site-packages/haversine/haversine.py:131: RuntimeWarning: invalid value encountered in arcsin\n",
      "  return 2 * asin(sqrt(d))\n",
      "100%|██████████| 8/8 [00:35<00:00,  4.41s/it]\n",
      "100%|██████████| 2866/2866 [01:20<00:00, 35.40it/s]\n"
     ]
    },
    {
     "name": "stdout",
     "output_type": "stream",
     "text": [
      "... IBTrACS Attributes ...\n",
      "... Computing Translation speed and azimuth ...\n"
     ]
    },
    {
     "name": "stderr",
     "output_type": "stream",
     "text": [
      "100%|██████████| 9/9 [00:05<00:00,  1.70it/s]\n"
     ]
    },
    {
     "name": "stdout",
     "output_type": "stream",
     "text": [
      "... Adding CPS parameters ...\n"
     ]
    },
    {
     "name": "stderr",
     "output_type": "stream",
     "text": [
      "100%|██████████| 2/2 [00:01<00:00,  1.86it/s]\n"
     ]
    },
    {
     "name": "stdout",
     "output_type": "stream",
     "text": [
      "... Adding WCSI flags ...\n"
     ]
    },
    {
     "name": "stderr",
     "output_type": "stream",
     "text": [
      "100%|██████████| 2/2 [00:00<00:00,  4.36it/s]\n"
     ]
    },
    {
     "name": "stdout",
     "output_type": "stream",
     "text": [
      "... Adding is_tc & is_etc flags ...\n",
      "... Adding ET flags ...\n",
      "... Saving ...\n",
      "Done!\n",
      "------- SP -------\n",
      "... Loading ...\n"
     ]
    },
    {
     "name": "stderr",
     "output_type": "stream",
     "text": [
      "/home/users/sbourdin/.conda/envs/huracanpy/lib/python3.13/site-packages/huracanpy/_data/_csv.py:65: DtypeWarning: Columns (17,18,21,81,90) have mixed types. Specify dtype option on import or set low_memory=False.\n",
      "  tracks = load_function(filename, **kwargs)\n"
     ]
    },
    {
     "name": "stdout",
     "output_type": "stream",
     "text": [
      "... Matching ...\n"
     ]
    },
    {
     "name": "stderr",
     "output_type": "stream",
     "text": [
      " 62%|██████▎   | 5/8 [00:17<00:09,  3.29s/it]/home/users/sbourdin/.conda/envs/huracanpy/lib/python3.13/site-packages/haversine/haversine.py:131: RuntimeWarning: invalid value encountered in arcsin\n",
      "  return 2 * asin(sqrt(d))\n",
      " 88%|████████▊ | 7/8 [00:23<00:03,  3.30s/it]/home/users/sbourdin/.conda/envs/huracanpy/lib/python3.13/site-packages/haversine/haversine.py:131: RuntimeWarning: invalid value encountered in arcsin\n",
      "  return 2 * asin(sqrt(d))\n",
      "100%|██████████| 8/8 [00:25<00:00,  3.24s/it]\n",
      "100%|██████████| 1244/1244 [00:31<00:00, 39.27it/s]\n"
     ]
    },
    {
     "name": "stdout",
     "output_type": "stream",
     "text": [
      "... IBTrACS Attributes ...\n",
      "... Computing Translation speed and azimuth ...\n"
     ]
    },
    {
     "name": "stderr",
     "output_type": "stream",
     "text": [
      "100%|██████████| 9/9 [00:02<00:00,  3.21it/s]\n"
     ]
    },
    {
     "name": "stdout",
     "output_type": "stream",
     "text": [
      "... Adding CPS parameters ...\n"
     ]
    },
    {
     "name": "stderr",
     "output_type": "stream",
     "text": [
      "100%|██████████| 2/2 [00:00<00:00,  2.33it/s]\n"
     ]
    },
    {
     "name": "stdout",
     "output_type": "stream",
     "text": [
      "... Adding WCSI flags ...\n"
     ]
    },
    {
     "name": "stderr",
     "output_type": "stream",
     "text": [
      "100%|██████████| 2/2 [00:00<00:00,  6.67it/s]\n"
     ]
    },
    {
     "name": "stdout",
     "output_type": "stream",
     "text": [
      "... Adding is_tc & is_etc flags ...\n",
      "... Adding ET flags ...\n",
      "... Saving ...\n",
      "Done!\n",
      "------- WP -------\n",
      "... Loading ...\n"
     ]
    },
    {
     "name": "stderr",
     "output_type": "stream",
     "text": [
      "/home/users/sbourdin/.conda/envs/huracanpy/lib/python3.13/site-packages/huracanpy/_data/_csv.py:65: DtypeWarning: Columns (12,17,18,21,60,65,76,84) have mixed types. Specify dtype option on import or set low_memory=False.\n",
      "  tracks = load_function(filename, **kwargs)\n"
     ]
    },
    {
     "name": "stdout",
     "output_type": "stream",
     "text": [
      "... Matching ...\n"
     ]
    },
    {
     "name": "stderr",
     "output_type": "stream",
     "text": [
      " 62%|██████▎   | 5/8 [00:44<00:24,  8.09s/it]/home/users/sbourdin/.conda/envs/huracanpy/lib/python3.13/site-packages/haversine/haversine.py:131: RuntimeWarning: invalid value encountered in arcsin\n",
      "  return 2 * asin(sqrt(d))\n",
      "100%|██████████| 8/8 [01:04<00:00,  8.04s/it]\n",
      "100%|██████████| 4218/4218 [02:17<00:00, 30.79it/s]\n"
     ]
    },
    {
     "name": "stdout",
     "output_type": "stream",
     "text": [
      "... IBTrACS Attributes ...\n",
      "... Computing Translation speed and azimuth ...\n"
     ]
    },
    {
     "name": "stderr",
     "output_type": "stream",
     "text": [
      "100%|██████████| 9/9 [00:08<00:00,  1.07it/s]\n"
     ]
    },
    {
     "name": "stdout",
     "output_type": "stream",
     "text": [
      "... Adding CPS parameters ...\n"
     ]
    },
    {
     "name": "stderr",
     "output_type": "stream",
     "text": [
      "100%|██████████| 2/2 [00:01<00:00,  1.60it/s]\n"
     ]
    },
    {
     "name": "stdout",
     "output_type": "stream",
     "text": [
      "... Adding WCSI flags ...\n"
     ]
    },
    {
     "name": "stderr",
     "output_type": "stream",
     "text": [
      "100%|██████████| 2/2 [00:00<00:00,  2.98it/s]\n"
     ]
    },
    {
     "name": "stdout",
     "output_type": "stream",
     "text": [
      "... Adding is_tc & is_etc flags ...\n"
     ]
    }
   ],
   "source": [
    "for b in BASINS:\n",
    "    if not os.path.isfile(\"extended-ibtracs/extended-ibtracs_\"+b+\".nc\"):\n",
    "        print('-------', b, '-------')\n",
    "        # Load IBTrACS for the given basin\n",
    "        print(\"... Loading ...\")\n",
    "        ib = huracanpy.load(\"ibtracs/ibtracs_\"+b+\".csv\")\n",
    "    \n",
    "        # load tracks data\n",
    "        TRACK_flist = glob(\"input/TRACK-*.pkl\")\n",
    "        SyCLoPS_flist = glob(\"input/SyCLoPS-*.pkl\")\n",
    "        tracks = {}\n",
    "        for f in TRACK_flist + SyCLoPS_flist:\n",
    "            name = f.split(\"/\")[-1].split('.')[0]\n",
    "            with open(f, \"rb\") as file:\n",
    "                tracks[name] = pkl.load(file)\n",
    "    \n",
    "        # =============   MATCHING  ============= #\n",
    "        print(\"... Matching ...\")\n",
    "        # Step 1: For each source, perform individual matching and treat duplicates\n",
    "        for ds in tqdm(tracks):\n",
    "            ## Step 1a: Match the source with ibtracs\n",
    "            M = huracanpy.assess.match([ib, tracks[ds]], [\"ib\", ds], min_overlap = MIN_OVERLAP, max_dist = MAX_DIST, \n",
    "                                      tracks1_is_ref = True,   # Treat the duplicates where one reanalysis tracks has several corresponding IBTrACS:\n",
    "                                                               # Keep the couple with longest overlap\n",
    "                                      )    \n",
    "            ## Step 1b: Treat the duplicates where several RA tracks correspond to 1 obs.: Merge them together\n",
    "            ### Merge with M to subset matched trackss and assign matching distance\n",
    "            tracks[ds] = tracks[ds].to_dataframe().merge(M.rename(columns = {\"id_\"+ds:\"track_id\"})[[\"track_id\", \"dist\"]])\n",
    "            ### Update merged ids\n",
    "            new_ids = M.groupby('id_ib')[\"id_\"+ds].apply(lambda s: '+'.join(str(s)))\n",
    "            replace = M.join(new_ids, on = \"id_ib\", lsuffix = \"_old\", rsuffix = \"_new\")[[\"id_\"+ds+\"_old\", \"id_\"+ds+\"_new\"]]\n",
    "            tracks[ds][\"track_id\"] = tracks[ds][\"track_id\"].replace(replace.set_index(\"id_\"+ds+\"_old\")[\"id_\"+ds+\"_new\"].to_dict())\n",
    "            ### When several times are for one track_id: keep the one belonging to the closest tracks to IBTrACS\n",
    "            tracks[ds] = tracks[ds].sort_values(\"dist\").groupby([\"track_id\", \"time\"]).first().reset_index()\n",
    "            ### Retransform into xarray\n",
    "            tracks[ds] = tracks[ds].to_xarray().rename({\"index\":\"record\"})\n",
    "    \n",
    "        # Step 2: Redo the matching now that the tracks have been merged\n",
    "        M = huracanpy.assess.match([ib, ib, *tracks.values()], [\"ib\", \"ib2\", *tracks.keys()], \n",
    "                                   min_overlap = MIN_OVERLAP, max_dist = MAX_DIST, \n",
    "                                   tracks1_is_ref = True,\n",
    "                                  ).drop(columns = \"id_ib2\").drop_duplicates()\n",
    "        # Note : The double ib is a trick to make sure all tracks from IBTrACS are included, since they all match with themselves\n",
    "        # Remove matches where IBTrACS is not involved: IBTrACS is considered ground truth for whether a track was tropical\n",
    "        M  = M[~(M.id_ib.isna())]\n",
    "    \n",
    "        # Step 3: Merge tracks together\n",
    "        tracks_matched = []\n",
    "        for id_ib in tqdm(np.unique(ib.track_id)): # Loop over rows of M\n",
    "            track = ib[[\"track_id\", \"lon\", \"lat\", \"time\",]].hrcn.sel_id(id_ib).set_coords(\"time\").swap_dims({\"record\":\"time\"}\n",
    "                                                            ).assign_coords(source = \"IBTrACS\").expand_dims(dim=\"source\")\n",
    "            if len(track.time) > 1:\n",
    "                # Matches\n",
    "                m = M[M.id_ib == id_ib]\n",
    "                \n",
    "                # Storm attributes\n",
    "                name = ib.hrcn.sel_id(id_ib).name[0].values\n",
    "            \n",
    "                # Merge all data about the track in one source\n",
    "                if len(m)>0:\n",
    "                    for ds in tracks:\n",
    "                        ds_id = getattr(m, \"id_\"+ds).values[0] # ID in the given source\n",
    "                        vars2keep = [v for v in [\"track_id\", \"lon\", \"lat\", \"pres\", \"wind10\", \"short_label\",\"vo850\"] if v in list(tracks[ds].variables.keys())]\n",
    "                        tid = tracks[ds].hrcn.sel_id(ds_id).set_coords(\"time\").swap_dims({\"record\":\"time\"}\n",
    "                                                                                        ).reset_coords()[vars2keep\n",
    "                                ].assign(source = ds).set_coords(\"source\")\n",
    "                        track = xr.concat([track, tid], dim = \"source\")\n",
    "                \n",
    "                # Save into tracks\n",
    "                tracks_matched.append(track.swap_dims({\"time\":\"record\"}).rename({\"track_id\":\"track_id_source\"}).assign(track_id = id_ib, name = name))\n",
    "                \n",
    "        # Concatenate all tracks in a new source\n",
    "        eib = xr.concat(tracks_matched, dim = \"record\")\n",
    "        # Remove track_id_source\n",
    "        eib = eib.drop_vars(\"track_id_source\")\n",
    "        # Filter 6-hourly\n",
    "        eib = eib.where(eib.time.dt.hour % 6 == 0, drop = True)\n",
    "    \n",
    "        # =============   RE-ADD IBTRACS ATTRIBUTES  ============= #\n",
    "        print(\"... IBTrACS Attributes ...\")\n",
    "        ## Transform into dataframes\n",
    "        ib_df = ib.to_dataframe()\n",
    "        teib_df = eib.sel(source = \"IBTrACS\").squeeze().reset_coords().to_dataframe()\n",
    "        # Merge data\n",
    "        M = teib_df[[\"time\",\"track_id\"]].reset_index().merge(ib_df, how = \"left\", on = [\"time\", \"track_id\"])\n",
    "        assert len(M) == len(teib_df) # Check that no duplicate were created\n",
    "        # Transform to xarray and select attributes\n",
    "        M_xr = M.set_index(\"record\").to_xarray()\n",
    "        # Merge back into the extended ibtracs\n",
    "        eib = eib.reset_coords().merge(M_xr.drop_vars([\"lon\", \"lat\",]))\n",
    "\n",
    "        # =============   COMPUTE TRANSLATION SPEED AND AZIMUTH  ============= #\n",
    "        print(\"... Computing Translation speed and azimuth ...\")\n",
    "        S = []\n",
    "        A = []\n",
    "        for ds in tqdm(eib.source):\n",
    "            eib_ds = eib.sel(source = ds) # Subset source\n",
    "            eib_ds = eib_ds.where(~np.isnan(eib_ds.lon), drop = True) # Remove points where given source does not have data\n",
    "            speed = huracanpy.calc.translation_speed(eib_ds.lon, eib_ds.lat, eib_ds.time, eib_ds.track_id)\n",
    "            S.append(speed)\n",
    "            azimuth = huracanpy.calc.azimuth(eib_ds.lon, eib_ds.lat, eib_ds.track_id)\n",
    "            A.append(azimuth)\n",
    "        eib[\"translation_speed\"] = xr.concat(S, dim = \"source\")\n",
    "        eib[\"azimuth\"] = xr.concat(A, dim = \"source\")\n",
    "    \n",
    "        # =============   ADD CPS PARAMETERS  ============= #\n",
    "        print(\"... Adding CPS parameters ...\")\n",
    "        with open(\"input/tracks_with_CPS_data.pkl\", \"rb\") as handle:\n",
    "            tracks_with_CPS = pkl.load(handle)\n",
    "            \n",
    "        L = []\n",
    "        for ds in tqdm(tracks_with_CPS):\n",
    "            # Transform the sources into dataframes\n",
    "            t_CPS_df = tracks_with_CPS[ds].to_dataframe()\n",
    "            teib_df = eib.sel(source = ds).squeeze().reset_coords().to_dataframe()\n",
    "            for var in [\"lon\", \"lat\"]: # Round up the coordinates for the matching to work\n",
    "                N = 0\n",
    "                t_CPS_df[var] = np.round(t_CPS_df[var], N)\n",
    "                teib_df[var] = np.round(teib_df[var], N)\n",
    "            # Merge extended ib and CPS source on lon, lat and time\n",
    "            t_CPS_df = t_CPS_df[~t_CPS_df[[\"lon\", \"lat\", \"time\",]].duplicated()] # Remove duplicates\n",
    "            M = teib_df[[\"lon\", \"lat\", \"time\",]].reset_index().merge(t_CPS_df[[\"lon\", \"lat\", \"time\", \"vtl\", \"vtu\", \"b\"]], how = \"left\", on = [\"lon\", \"lat\", \"time\"])\n",
    "            assert len(M) == len(teib_df) # Check that no duplicate were created\n",
    "            M_xr = M.set_index(\"record\").to_xarray().assign(source = ds).set_coords(\"source\")[[\"vtu\", \"vtl\", \"b\"]] # convert back to source and format\n",
    "            L.append(M_xr)\n",
    "        CPS = xr.concat(L, dim = \"source\") # Merge the CPS variables over sources\n",
    "        eib = eib.merge(CPS) # Merge back into the full extended ibtracs source\n",
    "\n",
    "        # Compute 1-day rolling means of CPS parameters\n",
    "        eib_df = eib.to_dataframe()\n",
    "        CPS_roll = eib_df.reset_index().set_index(\"record\").sort_values(\"time\").groupby([\"source\", \"track_id\"]).rolling(5, center = True)[[\"vtu\", \"vtl\", \"b\"]].mean()\n",
    "        eib[[\"vtu_roll\", \"vtl_roll\", \"b_roll\"]] = CPS_roll.reset_index().set_index([\"source\", \"record\"]).to_xarray()[[\"vtu\", \"vtl\", \"b\"]]\n",
    "\n",
    "        # =============   ADD WCSI FLAGS  ============= #\n",
    "        print(\"... Adding WCSI flags ...\")\n",
    "        with open(\"input/tracks_WCSI.pkl\", \"rb\") as handle:\n",
    "            tracks_WCSI = pkl.load(handle)\n",
    "            \n",
    "        L = []\n",
    "        for ds in tqdm(tracks_WCSI):\n",
    "            # Transform the sources into dataframes\n",
    "            t_WCSI_df = tracks_WCSI[ds].to_dataframe()\n",
    "            teib_df = eib.sel(source = ds).squeeze().reset_coords().to_dataframe()\n",
    "            for var in [\"lon\", \"lat\"]: # Round up the coordinates for the matching to work\n",
    "                N = 0\n",
    "                t_WCSI_df[var] = np.round(t_WCSI_df[var], N)\n",
    "                teib_df[var] = np.round(teib_df[var], N)\n",
    "            # Merge extended ib and WCSI source on lon, lat and time\n",
    "            t_WCSI_df = t_WCSI_df[~t_WCSI_df[[\"lon\", \"lat\", \"time\",]].duplicated()] # Remove duplicates\n",
    "            M = teib_df[[\"lon\", \"lat\", \"time\",]].reset_index().merge(t_WCSI_df[[\"lon\", \"lat\", \"time\", \"is_tc\"]], how = \"left\", on = [\"lon\", \"lat\", \"time\"])\n",
    "            assert len(M) == len(teib_df) # Check that no duplicate were created\n",
    "            M = M.rename(columns = {\"is_tc\":\"WCSI\"})\n",
    "            M_xr = M.set_index(\"record\").to_xarray().assign(source = ds).set_coords(\"source\")[[\"WCSI\"]] # convert back to source and format\n",
    "            L.append(M_xr)\n",
    "        WCSI = xr.concat(L, dim = \"source\") # Merge the WCSI variables over sources\n",
    "        eib = eib.merge(WCSI) # Merge back into the full extended ibtracs source\n",
    "        eib = eib.assign(WCSI = eib.WCSI.fillna(False).astype(bool)) # Convert to boolean\n",
    "\n",
    "        # =============   ADD IS_TC & IS_ETC FLAGS  ============= #\n",
    "        print(\"... Adding is_tc & is_etc flags ...\")\n",
    "        \n",
    "        # Is TC \n",
    "        ## SyCLoPS: If short label is TC\n",
    "        ## TRACK-CPS: If WCSI (+ the remaining WCS, see below)\n",
    "        eib[\"is_tc\"] = (eib.WCSI == True) | (eib.short_label == b'TC')\n",
    "        ## IBTrACS: If nature is TS\n",
    "        eib.is_tc.loc[dict(source=\"IBTrACS\")] = (eib.nature == \"TS\")\n",
    "        ## TRACK with CPS: Last WCS point after WCSI are also considered TCs\n",
    "        eib[\"WCS\"] = (np.abs(eib.b_roll) <= 15) & (eib.vtl_roll > 0)\n",
    "        eib_df = eib.to_dataframe().reset_index()\n",
    "        # Identify last WCSI point\n",
    "        last_WCSI = eib_df[eib_df.WCSI].sort_values(\"time\").groupby([\"source\", \"track_id\"]).last()[[\"record\", \"time\"]].reset_index()\n",
    "        # Subset points post WCSI\n",
    "        tmp = eib_df.merge(last_WCSI, on = [\"track_id\", \"source\"], suffixes=['', '_onset'])\n",
    "        tmp = tmp.assign(delta = tmp.time - tmp.time_onset)\n",
    "        post_WCSI = tmp[tmp.delta >= np.timedelta64(0)]\n",
    "        # Identify first non-WCS point\n",
    "        nonWCS = post_WCSI[~post_WCSI.WCS]\n",
    "        first_nonWCS = nonWCS.sort_values(\"time\").groupby([\"source\", \"track_id\"]).first()[[\"record\", \"time\"]].reset_index()\n",
    "        # List of WCS point just after WCSI\n",
    "        post_WCSI = post_WCSI.merge(first_nonWCS, on = [\"track_id\", \"source\"], suffixes=['', '_nonWCS'])\n",
    "        WCS_post_WCSI = post_WCSI[(post_WCSI.time - post_WCSI.time_nonWCS) < np.timedelta64(0)]\n",
    "        eib.is_tc.loc[dict(record = WCS_post_WCSI.record.to_xarray(), source = WCS_post_WCSI.source.to_xarray())] = True\n",
    "        \n",
    "        # Is ETC if Cold Core Asymetric (CCA, TRACK with CPS) or EX (SyCLoPS) or ET nature (IBTrACS)\n",
    "        eib[\"CCA\"] = (np.abs(eib.b_roll) > 15) & (eib.vtl_roll < 0)\n",
    "        eib[\"is_etc\"] = (eib.CCA) | (eib.short_label == b'EX')\n",
    "        eib.is_etc.loc[dict(source=\"IBTrACS\")] = (eib.nature == \"ET\")\n",
    "\n",
    "        # =============   ADD ET FLAGS  ============= #\n",
    "        print(\"... Adding ET flags ...\")\n",
    "\n",
    "        # Create ET variable\n",
    "        eib[\"ET\"]  = xr.DataArray(\n",
    "            np.full(eib['lon'].shape, np.nan, dtype=object),\n",
    "            dims=eib.dims,\n",
    "            coords=eib.coords\n",
    "        )\n",
    "\n",
    "        # Convert to dataframe to be able to group by two variables\n",
    "        eib_df = eib.to_dataframe().reset_index()\n",
    "\n",
    "        # Identify last TS point\n",
    "        TS = eib_df[eib_df.is_tc]\n",
    "        last_TS = TS.sort_values(\"time\").groupby([\"source\", \"track_id\"]).last()[[\"record\", \"time\"]].reset_index()\n",
    "        eib.ET.loc[dict(record = last_TS.record.to_xarray(), source = last_TS.source.to_xarray())] = +1\n",
    "\n",
    "        # Subset points post ET onset\n",
    "        tmp = eib_df.merge(last_TS, on = [\"track_id\", \"source\"], suffixes=['', '_onset'])\n",
    "        tmp = tmp.assign(delta = tmp.time - tmp.time_onset)\n",
    "        post_onset = tmp[tmp.delta >= np.timedelta64(0)]\n",
    "\n",
    "        # Identify first ETC point\n",
    "        EX = post_onset[post_onset.is_etc]\n",
    "        first_EX = EX.sort_values(\"time\").groupby([\"source\", \"track_id\"]).first()[[\"record\", \"time\"]].reset_index()\n",
    "        eib.ET.loc[dict(record = first_EX.record.to_xarray(), source = first_EX.source.to_xarray())] = -1\n",
    "\n",
    "        # Convert ET to int8\n",
    "        eib = eib.assign(ET = eib.ET.fillna(0).astype(np.int8))\n",
    "        \n",
    "        # =============   SAVE  ============= #\n",
    "        print(\"... Saving ...\")\n",
    "        ## Specify time encoding\n",
    "        eib.time.encoding['units'] = 'seconds since 1900-01-01'\n",
    "        eib.time.encoding['calendar'] = 'standard'\n",
    "        ## Changes types for lighter files\n",
    "        ### Convert to float32\n",
    "        varlist = list(eib.variables.keys())\n",
    "        floatvars = list(set(varlist) & (set([\"b_roll\", \"vtu_roll\", \"vtl_roll\", \"azimuth\", \"translation_speed\", \"lon\", \"lat\"])))\n",
    "        for var in floatvars:\n",
    "            eib[var] = eib[var].astype(np.float32)\n",
    "        ## Actual saving\n",
    "        eib.to_netcdf(\"extended-ibtracs/extended-ibtracs_\"+b+\".nc\")\n",
    "        \n",
    "        print(\"Done!\")"
   ]
  },
  {
   "cell_type": "code",
   "execution_count": null,
   "id": "a5a5010c-ed11-4a6e-a712-03c9ecc8f4ea",
   "metadata": {},
   "outputs": [],
   "source": []
  }
 ],
 "metadata": {
  "kernelspec": {
   "display_name": "huracanpy",
   "language": "python",
   "name": "huracanpy"
  },
  "language_info": {
   "codemirror_mode": {
    "name": "ipython",
    "version": 3
   },
   "file_extension": ".py",
   "mimetype": "text/x-python",
   "name": "python",
   "nbconvert_exporter": "python",
   "pygments_lexer": "ipython3",
   "version": "3.13.3"
  }
 },
 "nbformat": 4,
 "nbformat_minor": 5
}
