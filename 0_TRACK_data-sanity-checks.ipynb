{
 "cells": [
  {
   "cell_type": "code",
   "execution_count": null,
   "id": "8b7a7853-70ea-4c72-b68b-f4793f8b5c71",
   "metadata": {},
   "outputs": [],
   "source": [
    "import huracanpy\n",
    "\n",
    "import xarray as xr\n",
    "import numpy as np\n",
    "\n",
    "import matplotlib.pyplot as plt\n",
    "import seaborn as sns\n",
    "\n",
    "from glob import glob\n",
    "from tqdm import tqdm"
   ]
  },
  {
   "cell_type": "markdown",
   "id": "8d13b396-d4ac-48d1-adc7-91b0cc0c6f15",
   "metadata": {},
   "source": [
    "## Tracks without CPS"
   ]
  },
  {
   "cell_type": "code",
   "execution_count": null,
   "id": "7a88c197-a559-4e49-a170-53271741bac4",
   "metadata": {},
   "outputs": [],
   "source": [
    "flist = glob(\"TRACK_netcdf/*/*TRACK_all*.nc\") # + glob(\"TRACK_netcdf/*/*TRACK_NH_all*.nc\")"
   ]
  },
  {
   "cell_type": "code",
   "execution_count": null,
   "id": "38598988-6090-4f0c-9ac3-5161e1cc7cab",
   "metadata": {},
   "outputs": [],
   "source": [
    "# List of available datasets\n",
    "sources = [f.split('/')[1] for f in flist]\n",
    "sources"
   ]
  },
  {
   "cell_type": "code",
   "execution_count": null,
   "id": "cea7a50a-0b9d-48c6-b80b-fc1ba5c4d1e7",
   "metadata": {},
   "outputs": [],
   "source": [
    "# Path dict\n",
    "filepaths = {sources[i]:flist[i] for i in range(len(flist))}"
   ]
  },
  {
   "cell_type": "code",
   "execution_count": null,
   "id": "0d2cd49c-13b3-43bf-b5e5-e5d9a7249c84",
   "metadata": {},
   "outputs": [],
   "source": [
    "# Data dict\n",
    "data = {}\n",
    "for s in tqdm(sources):\n",
    "    data[s] = xr.open_dataset(filepaths[s]).rename({\"psl\":\"pres\"})"
   ]
  },
  {
   "cell_type": "code",
   "execution_count": null,
   "id": "0ff8c31a-d90f-4337-be75-836dac68226a",
   "metadata": {},
   "outputs": [],
   "source": [
    "# Check trackids\n",
    "for s in sources:\n",
    "    sample = np.random.choice(len(data[s].record), 3)\n",
    "    sample_pts = data[s].sel(record = sample)\n",
    "    print(s, sample_pts.track_id.values)"
   ]
  },
  {
   "cell_type": "code",
   "execution_count": null,
   "id": "3e3ab1ce-4efe-4931-bc22-a7ec6120bd31",
   "metadata": {},
   "outputs": [],
   "source": [
    "# Check durations\n",
    "for i, s in enumerate(sources):\n",
    "    Ymin, Ymax = data[s].time.dt.year.min().values, data[s].time.dt.year.max().values\n",
    "    plt.plot([Ymin, Ymax], [i, i], marker = 'o')\n",
    "    plt.text(Ymin, i+0.2, Ymin, horizontalalignment='center',)\n",
    "    plt.text(Ymax, i+0.2, Ymax, horizontalalignment='center',)\n",
    "plt.yticks(np.arange(len(sources)), sources)\n",
    "plt.xticks([1800, 1900, 1950, 2000, 2025])\n",
    "plt.ylim(-0.5, len(sources))\n",
    "sns.despine()\n",
    "plt.grid(axis = 'x')"
   ]
  },
  {
   "cell_type": "code",
   "execution_count": null,
   "id": "e2ee2412-3b38-4d8d-be87-d8a437138300",
   "metadata": {},
   "outputs": [],
   "source": [
    "# Check Number of tracks per year\n",
    "fig, axs = plt.subplots(figsize = (20,5))\n",
    "for s in sources:\n",
    "    Y = np.arange(1850, 2030)\n",
    "    H, _ = np.histogram(data[s].hrcn.get_gen_vals().time.dt.year, bins = np.arange(1849.5, 2030))\n",
    "    axs.plot(Y[H>0], H[H>0],label = s)\n",
    "plt.legend()\n",
    "plt.ylim(0)"
   ]
  },
  {
   "cell_type": "code",
   "execution_count": null,
   "id": "7221961e-5026-4783-b83d-202f013223aa",
   "metadata": {},
   "outputs": [],
   "source": [
    "# Check geographical distribution\n",
    "for s in sources:\n",
    "    sample = np.random.choice(len(data[s].record), 100000)\n",
    "    sample_pts = data[s].sel(record = sample)\n",
    "    sample_pts.hrcn.plot_density()\n",
    "    plt.title(s)"
   ]
  },
  {
   "cell_type": "code",
   "execution_count": null,
   "id": "777cdb9c-482e-4c6a-a94c-3bfc50c30012",
   "metadata": {},
   "outputs": [],
   "source": [
    "# Check latitude distribution\n",
    "for s in sources:\n",
    "    sample = np.random.choice(len(data[s].record), 10000)\n",
    "    sample_pts = data[s].sel(record = sample)\n",
    "    sns.kdeplot(sample_pts.lat, label = s)\n",
    "plt.legend()"
   ]
  },
  {
   "cell_type": "code",
   "execution_count": null,
   "id": "fa45bfa2-c714-4b88-8f98-6f7ec23a4859",
   "metadata": {},
   "outputs": [],
   "source": [
    "# Check psl values\n",
    "for s in sources:\n",
    "    sample = np.random.choice(len(data[s].record), 1000)\n",
    "    sample_pts = data[s].sel(record = sample)\n",
    "    sns.kdeplot(x=sample_pts.lat, y=sample_pts.pres, levels = 2, label = s)\n",
    "plt.legend()"
   ]
  },
  {
   "cell_type": "code",
   "execution_count": null,
   "id": "e47b236b-5744-4bf3-ada9-e2c68891defa",
   "metadata": {},
   "outputs": [],
   "source": [
    "# Check wind values\n",
    "for s in sources:\n",
    "    sample = np.random.choice(len(data[s].record), 1000)\n",
    "    sample_pts = data[s].sel(record = sample)\n",
    "    sns.kdeplot(x=sample_pts.lat, y=sample_pts.wind10.where(sample_pts.wind10 <1e10), levels = 2,)\n",
    "    plt.legend()"
   ]
  },
  {
   "cell_type": "code",
   "execution_count": null,
   "id": "aaa5577d-9b5a-4168-8eef-9202504e3104",
   "metadata": {},
   "outputs": [],
   "source": [
    "for s in sources:\n",
    "    huracanpy.save(data[s], \"TRACK/TRACK-\"+s+\".csv\")"
   ]
  },
  {
   "cell_type": "markdown",
   "id": "4440acc1-ea7a-4d93-b80d-13c8661c7fca",
   "metadata": {},
   "source": [
    "## Tracks with CPS"
   ]
  },
  {
   "cell_type": "code",
   "execution_count": null,
   "id": "8dbbe396-dfe1-4f07-bdcc-bb283aece19c",
   "metadata": {},
   "outputs": [],
   "source": [
    "flist = glob(\"TRACK_netcdf/*/*TRACK_tcident_nolat_CPS.nc\") \n",
    "flist"
   ]
  },
  {
   "cell_type": "code",
   "execution_count": null,
   "id": "e7089e31-1327-4a7f-bfa2-8cd27502ee52",
   "metadata": {},
   "outputs": [],
   "source": [
    "# List of available datasets\n",
    "sources = [f.split('/')[1] for f in flist]\n",
    "sources"
   ]
  },
  {
   "cell_type": "code",
   "execution_count": null,
   "id": "6fab9de2-38c9-4b14-ad31-4c1f7c9f5a60",
   "metadata": {},
   "outputs": [],
   "source": [
    "# Path dict\n",
    "filepaths = {sources[i]:flist[i] for i in range(len(flist))}"
   ]
  },
  {
   "cell_type": "code",
   "execution_count": null,
   "id": "a87b49fe-3440-4067-a8ef-eb25f9177c9d",
   "metadata": {},
   "outputs": [],
   "source": [
    "# Data dict\n",
    "data = {}\n",
    "for s in tqdm(sources):\n",
    "    data[s] = xr.open_dataset(filepaths[s]).rename({\"psl\":\"pres\"})"
   ]
  },
  {
   "cell_type": "code",
   "execution_count": null,
   "id": "b8145e7d-7425-4d78-9193-fb8ac9ba9af6",
   "metadata": {},
   "outputs": [],
   "source": [
    "# Check trackids\n",
    "for s in sources:\n",
    "    sample = np.random.choice(len(data[s].record), 3)\n",
    "    sample_pts = data[s].sel(record = sample)\n",
    "    print(s, sample_pts.track_id.values)"
   ]
  },
  {
   "cell_type": "code",
   "execution_count": null,
   "id": "cb84f69a-1f75-461c-96f4-061f25c16405",
   "metadata": {},
   "outputs": [],
   "source": [
    "# Check Number of tracks per year\n",
    "fig, axs = plt.subplots(figsize = (20,5))\n",
    "for s in sources:\n",
    "    Y = np.arange(1850, 2030)\n",
    "    H, _ = np.histogram(data[s].hrcn.get_gen_vals().time.dt.year, bins = np.arange(1849.5, 2030))\n",
    "    axs.plot(Y[H>0], H[H>0],label = s)\n",
    "plt.legend()\n",
    "plt.ylim(0)"
   ]
  },
  {
   "cell_type": "code",
   "execution_count": null,
   "id": "a04a6757-b551-4c60-be53-9885ef863a8b",
   "metadata": {},
   "outputs": [],
   "source": [
    "# Check durations\n",
    "for i, s in enumerate(sources):\n",
    "    Ymin, Ymax = data[s].time.dt.year.min().values, data[s].time.dt.year.max().values\n",
    "    plt.plot([Ymin, Ymax], [i, i], marker = 'o')\n",
    "    plt.text(Ymin, i+0.2, Ymin, horizontalalignment='center',)\n",
    "    plt.text(Ymax, i+0.2, Ymax, horizontalalignment='center',)\n",
    "plt.yticks(np.arange(len(sources)), sources)\n",
    "plt.xticks([1800, 1900, 1950, 2000, 2025])\n",
    "plt.ylim(-0.5, len(sources))\n",
    "sns.despine()\n",
    "plt.grid(axis = 'x')"
   ]
  },
  {
   "cell_type": "code",
   "execution_count": null,
   "id": "acc9c4fb-fff5-4aa5-b13d-30b8f92aa8bc",
   "metadata": {},
   "outputs": [],
   "source": [
    "# Check geographical distribution\n",
    "for s in sources:\n",
    "    sample = np.random.choice(len(data[s].record), 100000)\n",
    "    sample_pts = data[s].sel(record = sample)\n",
    "    sample_pts.hrcn.plot_density()\n",
    "    plt.title(s)"
   ]
  },
  {
   "cell_type": "code",
   "execution_count": null,
   "id": "be7029e0-7b0a-4139-b18c-f6d98379ca3e",
   "metadata": {},
   "outputs": [],
   "source": [
    "for s in sources:\n",
    "    huracanpy.save(data[s], \"TRACK_CPS/TRACK_CPS-\"+s+\".csv\")"
   ]
  }
 ],
 "metadata": {
  "kernelspec": {
   "display_name": "huracanpy",
   "language": "python",
   "name": "huracanpy"
  },
  "language_info": {
   "codemirror_mode": {
    "name": "ipython",
    "version": 3
   },
   "file_extension": ".py",
   "mimetype": "text/x-python",
   "name": "python",
   "nbconvert_exporter": "python",
   "pygments_lexer": "ipython3",
   "version": "3.13.3"
  }
 },
 "nbformat": 4,
 "nbformat_minor": 5
}
