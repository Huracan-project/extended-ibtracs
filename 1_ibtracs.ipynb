{
 "cells": [
  {
   "cell_type": "code",
   "execution_count": null,
   "id": "65019f13-482f-409b-ad28-a9af87181bf3",
   "metadata": {},
   "outputs": [],
   "source": [
    "from eib import *"
   ]
  },
  {
   "cell_type": "code",
   "execution_count": null,
   "id": "6bbebcbb-1b64-4a8d-ba2e-57c03c928acc",
   "metadata": {},
   "outputs": [],
   "source": [
    "for b in tqdm(BASINS):\n",
    "    # Load the entire ibtracs dataset\n",
    "    ib=huracanpy.load(source=\"ibtracs\", ibtracs_subset=b,)\n",
    "    # Rename Track IDs\n",
    "    ib = ib.rename({\"sid\":\"track_id\"})\n",
    "    # Keep only 6-hourly points\n",
    "    #ib = ib.where(ib.time.dt.hour % 6 == 0, drop = True)\n",
    "    # Remove empty variables\n",
    "    null = (ib.isnull().sum() == len(ib.record))\n",
    "    null_vars = [v for v in list(ib.variables.keys()) if null[v]]\n",
    "    ib = ib.drop_vars(null_vars)\n",
    "    # Convert winds to m/s\n",
    "    wind_vars=[v for v in list(ib.variables.keys()) if v.endswith(\"_wind\")]\n",
    "    for v in wind_vars:\n",
    "        ib[v] = ib[v] * 0.514444\n",
    "    # Save the dataset\n",
    "    huracanpy.save(ib, \"ibtracs/ibtracs_\"+b+\".csv\")"
   ]
  },
  {
   "cell_type": "code",
   "execution_count": null,
   "id": "59058ed5-47b4-46d4-ac9e-733039cd7820",
   "metadata": {},
   "outputs": [],
   "source": []
  }
 ],
 "metadata": {
  "kernelspec": {
   "display_name": "huracanpy",
   "language": "python",
   "name": "huracanpy"
  },
  "language_info": {
   "codemirror_mode": {
    "name": "ipython",
    "version": 3
   },
   "file_extension": ".py",
   "mimetype": "text/x-python",
   "name": "python",
   "nbconvert_exporter": "python",
   "pygments_lexer": "ipython3",
   "version": "3.13.3"
  }
 },
 "nbformat": 4,
 "nbformat_minor": 5
}
