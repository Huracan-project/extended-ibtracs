{
 "cells": [
  {
   "cell_type": "code",
   "execution_count": null,
   "id": "aaf7bf41-d9e6-4734-8374-d7763ae4627e",
   "metadata": {},
   "outputs": [],
   "source": [
    "from eib import *\n",
    "\n",
    "YMIN = 1980"
   ]
  },
  {
   "cell_type": "markdown",
   "id": "d9dc36bf-fa8e-494d-8648-85db9c49df74",
   "metadata": {},
   "source": [
    "TODO : \n",
    "* Update PP when available in v31\n",
    "* update wind percentiles with v31\n",
    "* Use 0.1° resolution?"
   ]
  },
  {
   "cell_type": "code",
   "execution_count": null,
   "id": "dfbf0f31-42d2-4e5d-959a-7cd8f5960f2a",
   "metadata": {},
   "outputs": [],
   "source": [
    "eib = xr.open_dataset(\"extended-ibtracs/extended-ibtracs_NA.nc\")\n",
    "eib = eib.where(eib.time.dt.year >= YMIN, drop = True)"
   ]
  },
  {
   "cell_type": "code",
   "execution_count": null,
   "id": "438294fd-9dd3-469a-8440-0a5ac19e86b6",
   "metadata": {},
   "outputs": [],
   "source": [
    "eobs = xr.open_mfdataset([\"E-OBS/rr_ens_mean_0.25deg_reg_v31.0e.nc\", \"E-OBS/fg_ens_mean_0.25deg_reg_v31.0e_remap.nc\"]).sel(longitude = slice(-20,40), latitude = slice(32,75), time = slice(str(YMIN), \"2024\"))"
   ]
  },
  {
   "cell_type": "code",
   "execution_count": null,
   "id": "358984a4-1fe3-44c1-be11-affd3d8bbd69",
   "metadata": {},
   "outputs": [],
   "source": [
    "LON_MIN, LON_MAX, LAT_MIN, LAT_MAX = eobs.longitude.min(), eobs.longitude.max(), eobs.latitude.min(), eobs.latitude.max()\n",
    "BOX = Polygon((\n",
    "    (LON_MIN, LAT_MIN),\n",
    "    (LON_MIN, LAT_MAX),\n",
    "    (LON_MAX, LAT_MAX),\n",
    "    (LON_MAX, LAT_MIN)\n",
    "))\n",
    "## plot\n",
    "ax = plt.axes(projection = ccrs.PlateCarree())\n",
    "ax.coastlines()\n",
    "ax.gridlines(draw_labels = True)\n",
    "ax.plot(*BOX.exterior.xy, color = \"red\", label = \"BIWE\")"
   ]
  },
  {
   "cell_type": "code",
   "execution_count": null,
   "id": "5564cca6-7dd4-425b-97bd-d699fc7903bc",
   "metadata": {},
   "outputs": [],
   "source": [
    "# Flag points within the zone\n",
    "print(len(eib.record))\n",
    "is_zone = lambda lon, lat : BOX.contains(Point(lon, lat))\n",
    "eib[\"in_zone\"] = xr.apply_ufunc(np.vectorize(is_zone), eib.lon, eib.lat)\n",
    "# Filter extended ibtracs\n",
    "eib = eib.where((eib.time.dt.hour == 0) & # E-OBS is daily\n",
    "                eib.in_zone.max(\"dataset\"), \n",
    "                drop = True) \n",
    "print(len(eib.record))"
   ]
  },
  {
   "cell_type": "code",
   "execution_count": null,
   "id": "d53db8a1-7a86-4fff-a9df-52945c6dbf79",
   "metadata": {},
   "outputs": [],
   "source": [
    "# Select cyclone times from EOBS field\n",
    "T = eib.time\n",
    "eobs_sample = eobs.sel(time = T, method = \"nearest\") "
   ]
  },
  {
   "cell_type": "code",
   "execution_count": null,
   "id": "1325ecbd-b548-4b79-b66d-049f7f318e84",
   "metadata": {},
   "outputs": [],
   "source": [
    "# Merge the track and sst data\n",
    "M = xr.merge([eib, eobs_sample.drop_vars(\"time\")],)"
   ]
  },
  {
   "cell_type": "code",
   "execution_count": null,
   "id": "5b900f44-375d-46e2-abf5-13d6fad6a5e1",
   "metadata": {},
   "outputs": [],
   "source": [
    "M.rr.isel(record = slice(300, 340)).plot(col = \"record\", col_wrap = 8, cmap = \"YlGnBu\")"
   ]
  },
  {
   "cell_type": "code",
   "execution_count": null,
   "id": "097f467b-7489-49f5-816a-8fb39638630a",
   "metadata": {},
   "outputs": [],
   "source": [
    "M.fg.isel(record = slice(300, 340)).plot(col = \"record\", col_wrap = 8, cmap = \"Reds\")"
   ]
  },
  {
   "cell_type": "code",
   "execution_count": null,
   "id": "092dec47-6329-4528-9ebe-dc0828deea6a",
   "metadata": {},
   "outputs": [],
   "source": [
    "# Save\n",
    "M.to_netcdf(\"extended-ibtracs/EU_tracks_with_E-OBS.nc\")"
   ]
  }
 ],
 "metadata": {
  "kernelspec": {
   "display_name": "huracanpy",
   "language": "python",
   "name": "huracanpy"
  },
  "language_info": {
   "codemirror_mode": {
    "name": "ipython",
    "version": 3
   },
   "file_extension": ".py",
   "mimetype": "text/x-python",
   "name": "python",
   "nbconvert_exporter": "python",
   "pygments_lexer": "ipython3",
   "version": "3.13.3"
  }
 },
 "nbformat": 4,
 "nbformat_minor": 5
}
