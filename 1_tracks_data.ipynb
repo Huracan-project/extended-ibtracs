{
 "cells": [
  {
   "cell_type": "code",
   "execution_count": null,
   "id": "3a68d127-52a4-4dca-b3a6-d648eb416490",
   "metadata": {},
   "outputs": [],
   "source": [
    "from eib import *"
   ]
  },
  {
   "cell_type": "code",
   "execution_count": null,
   "id": "9c194eeb-b64b-42c1-a638-dcec6734e2a0",
   "metadata": {},
   "outputs": [],
   "source": [
    "# All contemporary reanalyses tracks\n",
    "tracks={}\n",
    "TRACK_flist = glob(\"TRACK/TRACK-*.csv\")\n",
    "SyCLoPS_flist = glob(\"SyCLoPS/SyCLoPS-*.csv\")\n",
    "for f in tqdm(TRACK_flist + SyCLoPS_flist):\n",
    "    name = f.split(\"/\")[-1].split('.')[0]\n",
    "    if name != \"TRACK-CERA20C\":\n",
    "        tracks[name] = huracanpy.load(f)\n",
    "with open(\"tracks_data.pkl\", \"wb\") as file:\n",
    "    pkl.dump(tracks, file)\n",
    "\n",
    "for i, s in enumerate(tracks):\n",
    "    Ymin, Ymax = tracks[s].time.dt.year.min().values, tracks[s].time.dt.year.max().values\n",
    "    plt.plot([Ymin, Ymax], [i, i], marker = 'o')\n",
    "    plt.text(Ymin, i+0.2, Ymin, horizontalalignment='center',)\n",
    "    plt.text(Ymax, i+0.2, Ymax, horizontalalignment='center',)\n",
    "plt.yticks(np.arange(len(tracks)), tracks)\n",
    "plt.xticks([1900, 1950, 2000, 2025])\n",
    "plt.ylim(-0.5, len(tracks))\n",
    "sns.despine()\n",
    "plt.grid(axis = 'x')"
   ]
  },
  {
   "cell_type": "code",
   "execution_count": null,
   "id": "a1b3a632-db2c-4826-bb3f-d51e91f40d4c",
   "metadata": {},
   "outputs": [],
   "source": [
    "# Tracks with CPS\n",
    "tracks={}\n",
    "TRACK_flist = glob(\"TRACK_CPS/TRACK_CPS-*.csv\")\n",
    "\n",
    "for f in tqdm(TRACK_flist):\n",
    "    name = \"TRACK-\" + f.split(\"-\")[-1].split('.')[0]\n",
    "    print(name)\n",
    "    tracks[name] = huracanpy.load(f)\n",
    "with open(\"tracks_with_CPS_data.pkl\", \"wb\") as file:\n",
    "    pkl.dump(tracks, file)\n",
    "\n",
    "for i, s in enumerate(tracks):\n",
    "    Ymin, Ymax = tracks[s].time.dt.year.min().values, tracks[s].time.dt.year.max().values\n",
    "    plt.plot([Ymin, Ymax], [i, i], marker = 'o')\n",
    "    plt.text(Ymin, i+0.2, Ymin, horizontalalignment='center',)\n",
    "    plt.text(Ymax, i+0.2, Ymax, horizontalalignment='center',)\n",
    "plt.yticks(np.arange(len(tracks)), tracks)\n",
    "plt.xticks([1900, 1950, 2000, 2025])\n",
    "plt.ylim(-0.5, len(tracks))\n",
    "sns.despine()\n",
    "plt.grid(axis = 'x')"
   ]
  },
  {
   "cell_type": "code",
   "execution_count": null,
   "id": "5c3a1e15-10d5-4e1c-98b8-d91afab7e1b9",
   "metadata": {},
   "outputs": [],
   "source": [
    "sources = [\"ERA5\", \"JRA3Q\"]\n",
    "# Path dict\n",
    "filepaths = {s: glob(\"TRACK_subsets/\"+s+\"/\"+s+\"*_WCSI.nc\")[0] for s in sources}\n",
    "# Data dict\n",
    "tracks = {}\n",
    "for s in tqdm(sources):\n",
    "    name = \"TRACK-\" + s\n",
    "    tracks[name] = huracanpy.load(filepaths[s], baselon = -180)[[\"lon\", \"lat\", \"time\", \"is_tc\"]]\n",
    "with open(\"tracks_WCSI.pkl\", \"wb\") as file:\n",
    "    pkl.dump(tracks, file)\n",
    "for i, s in enumerate(tracks):\n",
    "    Ymin, Ymax = tracks[s].time.dt.year.min().values, tracks[s].time.dt.year.max().values\n",
    "    plt.plot([Ymin, Ymax], [i, i], marker = 'o')\n",
    "    plt.text(Ymin, i+0.2, Ymin, horizontalalignment='center',)\n",
    "    plt.text(Ymax, i+0.2, Ymax, horizontalalignment='center',)\n",
    "plt.yticks(np.arange(len(tracks)), tracks)\n",
    "plt.xticks([1900, 1950, 2000, 2025])\n",
    "plt.ylim(-0.5, len(tracks))\n",
    "sns.despine()\n",
    "plt.grid(axis = 'x')"
   ]
  },
  {
   "cell_type": "code",
   "execution_count": null,
   "id": "449afc14-9ca9-4374-89e8-d3ddd36787e1",
   "metadata": {},
   "outputs": [],
   "source": []
  }
 ],
 "metadata": {
  "kernelspec": {
   "display_name": "huracanpy",
   "language": "python",
   "name": "huracanpy"
  },
  "language_info": {
   "codemirror_mode": {
    "name": "ipython",
    "version": 3
   },
   "file_extension": ".py",
   "mimetype": "text/x-python",
   "name": "python",
   "nbconvert_exporter": "python",
   "pygments_lexer": "ipython3",
   "version": "3.13.3"
  }
 },
 "nbformat": 4,
 "nbformat_minor": 5
}
